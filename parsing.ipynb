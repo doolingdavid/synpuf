{
 "cells": [
  {
   "cell_type": "markdown",
   "metadata": {},
   "source": [
    "A group of notebooks to load the CMS 2008-2010 Data Entrepreneurs’ Synthetic Public Use File (DE-SynPUF).\n",
    "\n",
    "https://www.cms.gov/Research-Statistics-Data-and-Systems/Downloadable-Public-Use-Files/SynPUFs/DE_Syn_PUF.html\n",
    "\n",
    "\n",
    "The DE-SynPUF was created with the goal of providing a realistic set of claims data in the public domain while providing the very highest degree of protection to the Medicare beneficiaries’ protected health information.  The purposes of the DE-SynPUF are to:\n",
    "\n",
    "1. allow data entrepreneurs to develop and create software and applications that may eventually be applied to actual CMS claims data;\n",
    "2. train researchers on the use and complexity of conducting analyses with CMS claims data prior to initiating the process to obtain access to actual CMS data; and,\n",
    "3. support safe data mining innovations that may reveal unanticipated knowledge gains while preserving beneficiary privacy.\n",
    "\n",
    "The files have been designed so that programs and procedures created on the DE-SynPUF will function on CMS Limited Data Sets. The data structure of the Medicare DE-SynPUF is very similar to the CMS Limited Data Sets, but with a smaller number of variables.  The DE-SynPUF also provides a robust set of metadata on the CMS claims data that have not been previously available in the public domain.  Although the DE-SynPUF has very limited inferential research value to draw conclusions about Medicare beneficiaries due to the synthetic processes used to create the file, the Medicare DE-SynPUF does increase access to a realistic Medicare claims data file in a timely and less expensive manner to spur the innovation necessary to achieve the goals of better care for beneficiaries and improve the health of the population.\n",
    "\n",
    "The DE-SynPUF contains five types of data – Beneficiary Summary, Inpatient Claims, Outpatient Claims, Carrier Claims, and Prescription Drug Events.\n",
    "\n",
    "| DE-SynPUF | Unit of record | Number of Records 2008 | Number of Records 2009 | Number of Records 2010 |\n",
    "| ----------|:---------------:|:---------------------:|:-----------------------:|:----------------------:|\n",
    "| Beneficiary Summary | Beneficiary | 2,326,856 | 2,291,320 | 2,255,098 |\n",
    "| Inpatient Claims | claim | 547,800 | 504,941 | 280,081 |\n",
    "| Outpatient Claims | claim | 5,673,808 | 6,519,340 | 3,633,839 | \n",
    "| Carrier Claims | claim | 34,276,324 | 37,304,933 | 23,282,135 | \n",
    "| Prescription Drug Events (PDE) | event | 39,927,827 | 43,379,293 | 27,779,849 | \n",
    "\n",
    "\n",
    "\n",
    "### Accessing the files\n",
    "\n",
    "Due to file size limitations, each data type in the CMS Linkable 2008-2010 Medicare DE-SynPUF is released in 20 separate samples (essentially each is a .25% sample).  All claims for a particular beneficiary are in samples with the same number (i.e. all beneficiaries in sample 1 have all their claims in the sample 1 files).  This design allows DE-SynPUF users who do not need the entire synthetic population of the DE-SynPUF to read in only as many samples as they desire.  \n",
    "\n",
    "A unique cryptographic identifier, DESYNPUF_ID, identifying beneficiaries was provided in each CMS linkable 2008-2010 Medicare DE-SynPUF. DE-SynPUF users can link CMS Linkable 2008-2010 Medicare DE-SynPUFs using this Beneficiary Code, DESYNPUF_ID, as the linking key. However, DESYNPUF_ID was specifically created for DE-SynPUFs and carries no information about the patient or any patient records, and is provided solely for reference and data processing purposes."
   ]
  },
  {
   "cell_type": "markdown",
   "metadata": {},
   "source": [
    "#### Sample 1\n",
    "\n",
    "Each of the 20 samples contains eight files – three beneficiary files (one for each year), one inpatient file containing three years of data, one outpatient file containing three years of data, one PDE file containing three years of data, and two carrier files containing three years of data (Carrier 1 and Carrier 2).  Because of file size limitations, a Carrier sample was split into two CSV files. Both CSV files in a sample must be downloaded.  The SAS read-in program for the Carrier files creates one SAS data set from the two CSV files in the sample.  Beneficiary data was obtained for each year that the beneficiary enrolled in Medicare.  A single Beneficiary sample contains three CSV files, one for each year.  Because beneficiary files contain time varying variables like chronic conditions, reimbursement variables, and death, three files (one for each year) were provided to keep the same variable name as in the actual data.  All three CSV files in a sample must be downloaded. The SAS read-in program for the Beneficiary files creates one SAS data set for each year within a sample. If the beneficiary dies between 2008 and 2010, the beneficiary will not have any data in years after the beneficiary’s death.\n",
    "\n",
    "Although actual Medicare data are provided by year, De-SynPUFs provided three-year claims files to decrease the number of files users have to download and to take the advantage of multiple year data. Users can easily extract single year claims data.\n",
    "\n",
    "Click on the file below to begin download:"
   ]
  },
  {
   "cell_type": "code",
   "execution_count": 28,
   "metadata": {
    "collapsed": true
   },
   "outputs": [],
   "source": [
    "import numpy as np\n",
    "import pandas as pd\n",
    "import matplotlib.pyplot as plt\n",
    "from pandas import Series, DataFrame\n",
    "import pytz\n",
    "from pytz import common_timezones, all_timezones\n",
    "import matplotlib\n",
    "matplotlib.style.use('ggplot')\n",
    "%matplotlib inline\n",
    "from datetime import datetime\n"
   ]
  },
  {
   "cell_type": "code",
   "execution_count": 34,
   "metadata": {
    "collapsed": true
   },
   "outputs": [],
   "source": [
    "\n",
    "\n",
    "def process_url(urlstring):\n",
    "    \"\"\"A function to turn the CMS urls pointing to zipped files\n",
    "    into dataframes. Returns a dataframe\"\"\"\n",
    "    import requests, zipfile, StringIO\n",
    "    r = requests.get(urlstring)\n",
    "    z = zipfile.ZipFile(StringIO.StringIO(r.content))\n",
    "    # need to tease out the appropiate part of the sample string\n",
    "    df = pd.read_csv(z.open(urlstring.split('/')[-1].replace('zip','csv')))\n",
    "    \n",
    "    return df\n",
    "    \n",
    "    \n",
    "    "
   ]
  },
  {
   "cell_type": "markdown",
   "metadata": {},
   "source": [
    "## Collect all the zip urls for sample 1"
   ]
  },
  {
   "cell_type": "code",
   "execution_count": 30,
   "metadata": {
    "collapsed": true
   },
   "outputs": [],
   "source": [
    "sample1list = [\"https://www.cms.gov/Research-Statistics-Data-and-Systems/Downloadable-Public-Use-Files/\" + \\\n",
    "               \"SynPUFs/Downloads/DE1_0_2008_Beneficiary_Summary_File_Sample_1.zip\",\n",
    "              \"http://downloads.cms.gov/files/DE1_0_2008_to_2010_Carrier_Claims_Sample_1A.zip\",\n",
    "              \"http://downloads.cms.gov/files/DE1_0_2008_to_2010_Carrier_Claims_Sample_1B.zip\",\n",
    "              \"https://www.cms.gov/Research-Statistics-Data-and-Systems/Downloadable-Public-Use-Files/\" + \\\n",
    "               \"SynPUFs/Downloads/DE1_0_2008_to_2010_Inpatient_Claims_Sample_1.zip\",\n",
    "              \"https://www.cms.gov/Research-Statistics-Data-and-Systems/Downloadable-Public-Use-Files/\" + \\\n",
    "               \"SynPUFs/Downloads/DE1_0_2008_to_2010_Outpatient_Claims_Sample_1.zip\",\n",
    "              \"http://downloads.cms.gov/files/DE1_0_2008_to_2010_Prescription_Drug_Events_Sample_1.zip\",\n",
    "              \"https://www.cms.gov/Research-Statistics-Data-and-Systems/Downloadable-Public-Use-Files/\" + \\\n",
    "               \"SynPUFs/Downloads/DE1_0_2009_Beneficiary_Summary_File_Sample_1.zip\",\n",
    "              \"https://www.cms.gov/Research-Statistics-Data-and-Systems/Downloadable-Public-Use-Files/\" + \\\n",
    "               \"SynPUFs/Downloads/DE1_0_2010_Beneficiary_Summary_File_Sample_1.zip\"]"
   ]
  },
  {
   "cell_type": "code",
   "execution_count": 36,
   "metadata": {
    "collapsed": false
   },
   "outputs": [
    {
     "data": {
      "text/plain": [
       "'https://www.cms.gov/Research-Statistics-Data-and-Systems/Downloadable-Public-Use-Files/SynPUFs/Downloads/DE1_0_2008_Beneficiary_Summary_File_Sample_1.zip'"
      ]
     },
     "execution_count": 36,
     "metadata": {},
     "output_type": "execute_result"
    }
   ],
   "source": [
    "sample1list[0]"
   ]
  },
  {
   "cell_type": "markdown",
   "metadata": {},
   "source": [
    "## First load and transform the beneficiary files\n",
    "\n",
    "The codebook is given here\n",
    "https://www.cms.gov/Research-Statistics-Data-and-Systems/Downloadable-Public-Use-Files/SynPUFs/Downloads/SynPUF_Codebook.pdf\n",
    "\n"
   ]
  },
  {
   "cell_type": "code",
   "execution_count": 74,
   "metadata": {
    "collapsed": false
   },
   "outputs": [],
   "source": [
    "dfbene2008 = process_url(sample1list[0])"
   ]
  },
  {
   "cell_type": "code",
   "execution_count": 75,
   "metadata": {
    "collapsed": false
   },
   "outputs": [
    {
     "data": {
      "text/plain": [
       "Index([u'DESYNPUF_ID', u'BENE_BIRTH_DT', u'BENE_DEATH_DT',\n",
       "       u'BENE_SEX_IDENT_CD', u'BENE_RACE_CD', u'BENE_ESRD_IND',\n",
       "       u'SP_STATE_CODE', u'BENE_COUNTY_CD', u'BENE_HI_CVRAGE_TOT_MONS',\n",
       "       u'BENE_SMI_CVRAGE_TOT_MONS', u'BENE_HMO_CVRAGE_TOT_MONS',\n",
       "       u'PLAN_CVRG_MOS_NUM', u'SP_ALZHDMTA', u'SP_CHF', u'SP_CHRNKIDN',\n",
       "       u'SP_CNCR', u'SP_COPD', u'SP_DEPRESSN', u'SP_DIABETES', u'SP_ISCHMCHT',\n",
       "       u'SP_OSTEOPRS', u'SP_RA_OA', u'SP_STRKETIA', u'MEDREIMB_IP',\n",
       "       u'BENRES_IP', u'PPPYMT_IP', u'MEDREIMB_OP', u'BENRES_OP', u'PPPYMT_OP',\n",
       "       u'MEDREIMB_CAR', u'BENRES_CAR', u'PPPYMT_CAR'],\n",
       "      dtype='object')"
      ]
     },
     "execution_count": 75,
     "metadata": {},
     "output_type": "execute_result"
    }
   ],
   "source": [
    "dfbene2008.columns"
   ]
  },
  {
   "cell_type": "code",
   "execution_count": 76,
   "metadata": {
    "collapsed": false
   },
   "outputs": [
    {
     "data": {
      "text/plain": [
       "count               116352\n",
       "unique              116352\n",
       "top       FEDB5E029FB6554F\n",
       "freq                     1\n",
       "Name: DESYNPUF_ID, dtype: object"
      ]
     },
     "execution_count": 76,
     "metadata": {},
     "output_type": "execute_result"
    }
   ],
   "source": [
    "dfbene2008.DESYNPUF_ID.describe()"
   ]
  },
  {
   "cell_type": "markdown",
   "metadata": {},
   "source": [
    "```DESYNPUF_ID``` is a cryptographic number provided on each file to link claims to a beneficiary. This beneficiary ID carries no information about the patient or any patient records, and is provided for reference and data processing purposes."
   ]
  },
  {
   "cell_type": "markdown",
   "metadata": {},
   "source": [
    "### Need to transform ```BENE_BIRTH_DT``` into a date"
   ]
  },
  {
   "cell_type": "code",
   "execution_count": 77,
   "metadata": {
    "collapsed": false
   },
   "outputs": [],
   "source": [
    "import datetime as dt\n",
    "\n",
    "dfbene2008['BENE_BIRTH_DT'] = dfbene2008['BENE_BIRTH_DT'].apply(lambda x: pd.to_datetime(str(x),\n",
    "                    format='%Y%m%d'))"
   ]
  },
  {
   "cell_type": "code",
   "execution_count": 78,
   "metadata": {
    "collapsed": false
   },
   "outputs": [
    {
     "data": {
      "text/plain": [
       "0        1923-05-01\n",
       "1        1943-01-01\n",
       "2        1936-09-01\n",
       "3        1941-06-01\n",
       "4        1936-08-01\n",
       "5        1943-10-01\n",
       "6        1922-07-01\n",
       "7        1935-09-01\n",
       "8        1976-09-01\n",
       "9        1938-10-01\n",
       "10       1934-02-01\n",
       "11       1929-06-01\n",
       "12       1936-07-01\n",
       "13       1934-05-01\n",
       "14       1936-03-01\n",
       "15       1934-01-01\n",
       "16       1919-09-01\n",
       "17       1919-10-01\n",
       "18       1942-07-01\n",
       "19       1938-04-01\n",
       "20       1932-08-01\n",
       "21       1942-08-01\n",
       "22       1932-07-01\n",
       "23       1931-03-01\n",
       "24       1965-04-01\n",
       "25       1939-12-01\n",
       "26       1940-04-01\n",
       "27       1937-10-01\n",
       "28       1938-04-01\n",
       "29       1959-11-01\n",
       "            ...    \n",
       "116322   1959-08-01\n",
       "116323   1956-12-01\n",
       "116324   1942-07-01\n",
       "116325   1947-03-01\n",
       "116326   1910-02-01\n",
       "116327   1920-05-01\n",
       "116328   1943-03-01\n",
       "116329   1943-11-01\n",
       "116330   1928-11-01\n",
       "116331   1925-08-01\n",
       "116332   1919-05-01\n",
       "116333   1950-02-01\n",
       "116334   1953-10-01\n",
       "116335   1922-05-01\n",
       "116336   1940-06-01\n",
       "116337   1922-09-01\n",
       "116338   1920-01-01\n",
       "116339   1936-08-01\n",
       "116340   1935-06-01\n",
       "116341   1930-01-01\n",
       "116342   1959-07-01\n",
       "116343   1941-04-01\n",
       "116344   1920-12-01\n",
       "116345   1936-12-01\n",
       "116346   1939-07-01\n",
       "116347   1943-07-01\n",
       "116348   1916-06-01\n",
       "116349   1939-04-01\n",
       "116350   1911-07-01\n",
       "116351   1952-04-01\n",
       "Name: BENE_BIRTH_DT, dtype: datetime64[ns]"
      ]
     },
     "execution_count": 78,
     "metadata": {},
     "output_type": "execute_result"
    }
   ],
   "source": [
    "dfbene2008['BENE_BIRTH_DT']"
   ]
  },
  {
   "cell_type": "code",
   "execution_count": 79,
   "metadata": {
    "collapsed": false
   },
   "outputs": [
    {
     "data": {
      "text/plain": [
       "<matplotlib.axes._subplots.AxesSubplot at 0x4bf6f240>"
      ]
     },
     "execution_count": 79,
     "metadata": {},
     "output_type": "execute_result"
    },
    {
     "data": {
      "image/png": "[encoded data removed]",
      "text/plain": [
       "<matplotlib.figure.Figure at 0x273e5438>"
      ]
     },
     "metadata": {},
     "output_type": "display_data"
    }
   ],
   "source": [
    "dfbene2008['BENE_BIRTH_DT'].dt.year.value_counts().sort_index().plot(kind='bar',figsize=(30,10))"
   ]
  },
  {
   "cell_type": "code",
   "execution_count": 80,
   "metadata": {
    "collapsed": false
   },
   "outputs": [
    {
     "data": {
      "text/plain": [
       "<matplotlib.axes._subplots.AxesSubplot at 0x3c093dd8>"
      ]
     },
     "execution_count": 80,
     "metadata": {},
     "output_type": "execute_result"
    },
    {
     "data": {
      "image/png": "[encoded data removed]",
      "text/plain": [
       "<matplotlib.figure.Figure at 0xa81448d0>"
      ]
     },
     "metadata": {},
     "output_type": "display_data"
    }
   ],
   "source": [
    "dfbene2008['BENE_BIRTH_DT'].dt.month.value_counts().sort_index().plot(kind='bar',figsize=(30,10))"
   ]
  },
  {
   "cell_type": "code",
   "execution_count": 81,
   "metadata": {
    "collapsed": false
   },
   "outputs": [],
   "source": [
    "import datetime as dt\n",
    "\n",
    "dfbene2008['BENE_DEATH_DT'] = dfbene2008['BENE_DEATH_DT'].apply(lambda x: pd.to_datetime(str(x),\n",
    "                    format='%Y%m%d'))"
   ]
  },
  {
   "cell_type": "code",
   "execution_count": 82,
   "metadata": {
    "collapsed": false
   },
   "outputs": [
    {
     "data": {
      "text/plain": [
       "2008-09-01    166\n",
       "2008-01-01    164\n",
       "2008-11-01    158\n",
       "2008-05-01    158\n",
       "2008-03-01    156\n",
       "2008-10-01    155\n",
       "2008-12-01    153\n",
       "2008-07-01    149\n",
       "2008-02-01    142\n",
       "2008-04-01    141\n",
       "2008-08-01    140\n",
       "2008-06-01    132\n",
       "Name: BENE_DEATH_DT, dtype: int64"
      ]
     },
     "execution_count": 82,
     "metadata": {},
     "output_type": "execute_result"
    }
   ],
   "source": [
    "dfbene2008['BENE_DEATH_DT'].value_counts()"
   ]
  },
  {
   "cell_type": "code",
   "execution_count": 83,
   "metadata": {
    "collapsed": false
   },
   "outputs": [
    {
     "data": {
      "text/plain": [
       "<matplotlib.axes._subplots.AxesSubplot at 0x777dcf98>"
      ]
     },
     "execution_count": 83,
     "metadata": {},
     "output_type": "execute_result"
    },
    {
     "data": {
      "image/png": "[encoded data removed]",
      "text/plain": [
       "<matplotlib.figure.Figure at 0xa43943c8>"
      ]
     },
     "metadata": {},
     "output_type": "display_data"
    }
   ],
   "source": [
    "dfbene2008['BENE_DEATH_DT'].dt.year.value_counts().sort_index().plot(kind='bar',figsize=(30,10))"
   ]
  },
  {
   "cell_type": "code",
   "execution_count": 86,
   "metadata": {
    "collapsed": false
   },
   "outputs": [
    {
     "data": {
      "text/plain": [
       "1     164\n",
       "2     142\n",
       "3     156\n",
       "4     141\n",
       "5     158\n",
       "6     132\n",
       "7     149\n",
       "8     140\n",
       "9     166\n",
       "10    155\n",
       "11    158\n",
       "12    153\n",
       "Name: BENE_DEATH_DT, dtype: int64"
      ]
     },
     "execution_count": 86,
     "metadata": {},
     "output_type": "execute_result"
    }
   ],
   "source": [
    "dfbene2008['BENE_DEATH_DT'].dt.month.value_counts().sort_index()\n",
    "\n",
    "# September is when people die"
   ]
  },
  {
   "cell_type": "code",
   "execution_count": null,
   "metadata": {
    "collapsed": true
   },
   "outputs": [],
   "source": []
  }
 ],
 "metadata": {
  "kernelspec": {
   "display_name": "Python 2",
   "language": "python",
   "name": "python2"
  },
  "language_info": {
   "codemirror_mode": {
    "name": "ipython",
    "version": 2
   },
   "file_extension": ".py",
   "mimetype": "text/x-python",
   "name": "python",
   "nbconvert_exporter": "python",
   "pygments_lexer": "ipython2",
   "version": "2.7.11"
  }
 },
 "nbformat": 4,
 "nbformat_minor": 0
}
