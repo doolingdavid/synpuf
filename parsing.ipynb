{
 "cells": [
  {
   "cell_type": "markdown",
   "metadata": {},
   "source": [
    "A group of notebooks to load the CMS 2008-2010 Data Entrepreneurs’ Synthetic Public Use File (DE-SynPUF).\n",
    "\n",
    "https://www.cms.gov/Research-Statistics-Data-and-Systems/Downloadable-Public-Use-Files/SynPUFs/DE_Syn_PUF.html\n",
    "\n",
    "\n",
    "The DE-SynPUF was created with the goal of providing a realistic set of claims data in the public domain while providing the very highest degree of protection to the Medicare beneficiaries’ protected health information.  The purposes of the DE-SynPUF are to:\n",
    "\n",
    "1. allow data entrepreneurs to develop and create software and applications that may eventually be applied to actual CMS claims data;\n",
    "2. train researchers on the use and complexity of conducting analyses with CMS claims data prior to initiating the process to obtain access to actual CMS data; and,\n",
    "3. support safe data mining innovations that may reveal unanticipated knowledge gains while preserving beneficiary privacy.\n",
    "\n",
    "The files have been designed so that programs and procedures created on the DE-SynPUF will function on CMS Limited Data Sets. The data structure of the Medicare DE-SynPUF is very similar to the CMS Limited Data Sets, but with a smaller number of variables.  The DE-SynPUF also provides a robust set of metadata on the CMS claims data that have not been previously available in the public domain.  Although the DE-SynPUF has very limited inferential research value to draw conclusions about Medicare beneficiaries due to the synthetic processes used to create the file, the Medicare DE-SynPUF does increase access to a realistic Medicare claims data file in a timely and less expensive manner to spur the innovation necessary to achieve the goals of better care for beneficiaries and improve the health of the population.\n",
    "\n",
    "The DE-SynPUF contains five types of data – Beneficiary Summary, Inpatient Claims, Outpatient Claims, Carrier Claims, and Prescription Drug Events.\n",
    "\n",
    "| DE-SynPUF | Unit of record | Number of Records 2008 | Number of Records 2009 | Number of Records 2010 |\n",
    "| ----------|:---------------:|:---------------------:|:-----------------------:|:----------------------:|\n",
    "| Beneficiary Summary | Beneficiary | 2,326,856 | 2,291,320 | 2,255,098 |\n",
    "| Inpatient Claims | claim | 547,800 | 504,941 | 280,081 |\n",
    "| Outpatient Claims | claim | 5,673,808 | 6,519,340 | 3,633,839 | \n",
    "| Carrier Claims | claim | 34,276,324 | 37,304,933 | 23,282,135 | \n",
    "| Prescription Drug Events (PDE) | event | 39,927,827 | 43,379,293 | 27,779,849 | \n",
    "\n",
    "\n",
    "\n",
    "### Accessing the files\n",
    "\n",
    "Due to file size limitations, each data type in the CMS Linkable 2008-2010 Medicare DE-SynPUF is released in 20 separate samples (essentially each is a .25% sample).  All claims for a particular beneficiary are in samples with the same number (i.e. all beneficiaries in sample 1 have all their claims in the sample 1 files).  This design allows DE-SynPUF users who do not need the entire synthetic population of the DE-SynPUF to read in only as many samples as they desire.  \n",
    "\n",
    "A unique cryptographic identifier, DESYNPUF_ID, identifying beneficiaries was provided in each CMS linkable 2008-2010 Medicare DE-SynPUF. DE-SynPUF users can link CMS Linkable 2008-2010 Medicare DE-SynPUFs using this Beneficiary Code, DESYNPUF_ID, as the linking key. However, DESYNPUF_ID was specifically created for DE-SynPUFs and carries no information about the patient or any patient records, and is provided solely for reference and data processing purposes."
   ]
  },
  {
   "cell_type": "markdown",
   "metadata": {},
   "source": [
    "#### Sample 1\n",
    "\n",
    "Each of the 20 samples contains eight files – three beneficiary files (one for each year), one inpatient file containing three years of data, one outpatient file containing three years of data, one PDE file containing three years of data, and two carrier files containing three years of data (Carrier 1 and Carrier 2).  Because of file size limitations, a Carrier sample was split into two CSV files. Both CSV files in a sample must be downloaded.  The SAS read-in program for the Carrier files creates one SAS data set from the two CSV files in the sample.  Beneficiary data was obtained for each year that the beneficiary enrolled in Medicare.  A single Beneficiary sample contains three CSV files, one for each year.  Because beneficiary files contain time varying variables like chronic conditions, reimbursement variables, and death, three files (one for each year) were provided to keep the same variable name as in the actual data.  All three CSV files in a sample must be downloaded. The SAS read-in program for the Beneficiary files creates one SAS data set for each year within a sample. If the beneficiary dies between 2008 and 2010, the beneficiary will not have any data in years after the beneficiary’s death.\n",
    "\n",
    "Although actual Medicare data are provided by year, De-SynPUFs provided three-year claims files to decrease the number of files users have to download and to take the advantage of multiple year data. Users can easily extract single year claims data.\n",
    "\n",
    "Click on the file below to begin download:"
   ]
  },
  {
   "cell_type": "code",
   "execution_count": 28,
   "metadata": {
    "collapsed": true
   },
   "outputs": [],
   "source": [
    "import numpy as np\n",
    "import pandas as pd\n",
    "import matplotlib.pyplot as plt\n",
    "from pandas import Series, DataFrame\n",
    "import pytz\n",
    "from pytz import common_timezones, all_timezones\n",
    "import matplotlib\n",
    "matplotlib.style.use('ggplot')\n",
    "%matplotlib inline\n",
    "from datetime import datetime\n"
   ]
  },
  {
   "cell_type": "code",
   "execution_count": 34,
   "metadata": {
    "collapsed": true
   },
   "outputs": [],
   "source": [
    "\n",
    "\n",
    "def process_url(urlstring):\n",
    "    \"\"\"A function to turn the CMS urls pointing to zipped files\n",
    "    into dataframes. Returns a dataframe\"\"\"\n",
    "    import requests, zipfile, StringIO\n",
    "    r = requests.get(urlstring)\n",
    "    z = zipfile.ZipFile(StringIO.StringIO(r.content))\n",
    "    # need to tease out the appropiate part of the sample string\n",
    "    df = pd.read_csv(z.open(urlstring.split('/')[-1].replace('zip','csv')))\n",
    "    \n",
    "    return df\n",
    "    \n",
    "    \n",
    "    "
   ]
  },
  {
   "cell_type": "markdown",
   "metadata": {},
   "source": [
    "## Collect all the zip urls for sample 1"
   ]
  },
  {
   "cell_type": "code",
   "execution_count": 30,
   "metadata": {
    "collapsed": true
   },
   "outputs": [],
   "source": [
    "sample1list = [\"https://www.cms.gov/Research-Statistics-Data-and-Systems/Downloadable-Public-Use-Files/\" + \\\n",
    "               \"SynPUFs/Downloads/DE1_0_2008_Beneficiary_Summary_File_Sample_1.zip\",\n",
    "              \"http://downloads.cms.gov/files/DE1_0_2008_to_2010_Carrier_Claims_Sample_1A.zip\",\n",
    "              \"http://downloads.cms.gov/files/DE1_0_2008_to_2010_Carrier_Claims_Sample_1B.zip\",\n",
    "              \"https://www.cms.gov/Research-Statistics-Data-and-Systems/Downloadable-Public-Use-Files/\" + \\\n",
    "               \"SynPUFs/Downloads/DE1_0_2008_to_2010_Inpatient_Claims_Sample_1.zip\",\n",
    "              \"https://www.cms.gov/Research-Statistics-Data-and-Systems/Downloadable-Public-Use-Files/\" + \\\n",
    "               \"SynPUFs/Downloads/DE1_0_2008_to_2010_Outpatient_Claims_Sample_1.zip\",\n",
    "              \"http://downloads.cms.gov/files/DE1_0_2008_to_2010_Prescription_Drug_Events_Sample_1.zip\",\n",
    "              \"https://www.cms.gov/Research-Statistics-Data-and-Systems/Downloadable-Public-Use-Files/\" + \\\n",
    "               \"SynPUFs/Downloads/DE1_0_2009_Beneficiary_Summary_File_Sample_1.zip\",\n",
    "              \"https://www.cms.gov/Research-Statistics-Data-and-Systems/Downloadable-Public-Use-Files/\" + \\\n",
    "               \"SynPUFs/Downloads/DE1_0_2010_Beneficiary_Summary_File_Sample_1.zip\"]"
   ]
  },
  {
   "cell_type": "code",
   "execution_count": 36,
   "metadata": {
    "collapsed": false
   },
   "outputs": [
    {
     "data": {
      "text/plain": [
       "'https://www.cms.gov/Research-Statistics-Data-and-Systems/Downloadable-Public-Use-Files/SynPUFs/Downloads/DE1_0_2008_Beneficiary_Summary_File_Sample_1.zip'"
      ]
     },
     "execution_count": 36,
     "metadata": {},
     "output_type": "execute_result"
    }
   ],
   "source": [
    "sample1list[0]"
   ]
  },
  {
   "cell_type": "markdown",
   "metadata": {},
   "source": [
    "## First load and transform the beneficiary files\n",
    "\n",
    "The codebook is given here\n",
    "https://www.cms.gov/Research-Statistics-Data-and-Systems/Downloadable-Public-Use-Files/SynPUFs/Downloads/SynPUF_Codebook.pdf\n",
    "\n"
   ]
  },
  {
   "cell_type": "markdown",
   "metadata": {},
   "source": [
    "```DESYNPUF_ID``` is a cryptographic number provided on each file to link claims to a beneficiary. This beneficiary ID carries no information about the patient or any patient records, and is provided for reference and data processing purposes."
   ]
  },
  {
   "cell_type": "markdown",
   "metadata": {},
   "source": [
    "### Need to transform ```BENE_BIRTH_DT``` into a date"
   ]
  },
  {
   "cell_type": "markdown",
   "metadata": {},
   "source": [
    "```BENE_SEX_IDENT_CD``` is 1 for males and 2 for females; get rid of the numbers and put in the strings"
   ]
  },
  {
   "cell_type": "markdown",
   "metadata": {},
   "source": [
    "#### Make a function that cleans the bene dataframes:"
   ]
  },
  {
   "cell_type": "code",
   "execution_count": 90,
   "metadata": {
    "collapsed": true
   },
   "outputs": [],
   "source": [
    "def make_clean_bene(dfraw):\n",
    "    \"\"\"takes the raw dataframe dfraw and transform it\n",
    "    using the codebook.\"\"\"\n",
    "    import datetime as dt\n",
    "    dfraw['BENE_BIRTH_DT'] = dfraw['BENE_BIRTH_DT'].apply(lambda x: pd.to_datetime(str(x),\n",
    "                    format='%Y%m%d'))\n",
    "    dfraw['BENE_DEATH_DT'] = dfraw['BENE_DEATH_DT'].apply(lambda x: pd.to_datetime(str(x),\n",
    "                    format='%Y%m%d'))\n",
    "    dfraw.replace({'BENE_SEX_IDENT_CD':{1:'Male',\n",
    "                                         2:'Female'}},\n",
    "                                        inplace=True)"
   ]
  },
  {
   "cell_type": "code",
   "execution_count": 92,
   "metadata": {
    "collapsed": true
   },
   "outputs": [],
   "source": [
    "dfbene2008 = process_url(sample1list[0])"
   ]
  },
  {
   "cell_type": "code",
   "execution_count": 93,
   "metadata": {
    "collapsed": true
   },
   "outputs": [],
   "source": [
    "make_clean_bene(dfbene2008)"
   ]
  },
  {
   "cell_type": "code",
   "execution_count": 94,
   "metadata": {
    "collapsed": false
   },
   "outputs": [
    {
     "data": {
      "text/plain": [
       "1     164\n",
       "2     142\n",
       "3     156\n",
       "4     141\n",
       "5     158\n",
       "6     132\n",
       "7     149\n",
       "8     140\n",
       "9     166\n",
       "10    155\n",
       "11    158\n",
       "12    153\n",
       "Name: BENE_DEATH_DT, dtype: int64"
      ]
     },
     "execution_count": 94,
     "metadata": {},
     "output_type": "execute_result"
    }
   ],
   "source": [
    "dfbene2008['BENE_DEATH_DT'].dt.month.value_counts().sort_index()"
   ]
  },
  {
   "cell_type": "code",
   "execution_count": 95,
   "metadata": {
    "collapsed": false
   },
   "outputs": [
    {
     "data": {
      "text/plain": [
       "<matplotlib.axes._subplots.AxesSubplot at 0x4e66f3c8>"
      ]
     },
     "execution_count": 95,
     "metadata": {},
     "output_type": "execute_result"
    },
    {
     "data": {
      "image/png": "[encoded data removed]",
      "text/plain": [
       "<matplotlib.figure.Figure at 0x4e66f9e8>"
      ]
     },
     "metadata": {},
     "output_type": "display_data"
    }
   ],
   "source": [
    "dfbene2008['BENE_SEX_IDENT_CD'].value_counts().plot(kind='bar')"
   ]
  },
  {
   "cell_type": "code",
   "execution_count": 96,
   "metadata": {
    "collapsed": false
   },
   "outputs": [
    {
     "data": {
      "text/plain": [
       "<matplotlib.axes._subplots.AxesSubplot at 0xa5066a58>"
      ]
     },
     "execution_count": 96,
     "metadata": {},
     "output_type": "execute_result"
    },
    {
     "data": {
      "image/png": "[encoded data removed]",
      "text/plain": [
       "<matplotlib.figure.Figure at 0xa5090ba8>"
      ]
     },
     "metadata": {},
     "output_type": "display_data"
    }
   ],
   "source": [
    "dfbene2008['BENE_BIRTH_DT'].dt.year.value_counts().sort_index().plot(kind='bar',figsize=(30,10))"
   ]
  }
 ],
 "metadata": {
  "kernelspec": {
   "display_name": "Python 2",
   "language": "python",
   "name": "python2"
  },
  "language_info": {
   "codemirror_mode": {
    "name": "ipython",
    "version": 2
   },
   "file_extension": ".py",
   "mimetype": "text/x-python",
   "name": "python",
   "nbconvert_exporter": "python",
   "pygments_lexer": "ipython2",
   "version": "2.7.11"
  }
 },
 "nbformat": 4,
 "nbformat_minor": 0
}
