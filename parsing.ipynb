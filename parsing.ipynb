{
 "cells": [
  {
   "cell_type": "markdown",
   "metadata": {},
   "source": [
    "A group of notebooks to load the CMS 2008-2010 Data Entrepreneurs’ Synthetic Public Use File (DE-SynPUF).\n",
    "\n",
    "https://www.cms.gov/Research-Statistics-Data-and-Systems/Downloadable-Public-Use-Files/SynPUFs/DE_Syn_PUF.html\n",
    "\n",
    "\n",
    "The DE-SynPUF was created with the goal of providing a realistic set of claims data in the public domain while providing the very highest degree of protection to the Medicare beneficiaries’ protected health information.  The purposes of the DE-SynPUF are to:\n",
    "\n",
    "1. allow data entrepreneurs to develop and create software and applications that may eventually be applied to actual CMS claims data;\n",
    "2. train researchers on the use and complexity of conducting analyses with CMS claims data prior to initiating the process to obtain access to actual CMS data; and,\n",
    "3. support safe data mining innovations that may reveal unanticipated knowledge gains while preserving beneficiary privacy.\n",
    "\n",
    "The files have been designed so that programs and procedures created on the DE-SynPUF will function on CMS Limited Data Sets. The data structure of the Medicare DE-SynPUF is very similar to the CMS Limited Data Sets, but with a smaller number of variables.  The DE-SynPUF also provides a robust set of metadata on the CMS claims data that have not been previously available in the public domain.  Although the DE-SynPUF has very limited inferential research value to draw conclusions about Medicare beneficiaries due to the synthetic processes used to create the file, the Medicare DE-SynPUF does increase access to a realistic Medicare claims data file in a timely and less expensive manner to spur the innovation necessary to achieve the goals of better care for beneficiaries and improve the health of the population.\n",
    "\n",
    "The DE-SynPUF contains five types of data – Beneficiary Summary, Inpatient Claims, Outpatient Claims, Carrier Claims, and Prescription Drug Events.\n",
    "\n",
    "| DE-SynPUF | Unit of record | Number of Records 2008 | Number of Records 2009 | Number of Records 2010 |\n",
    "| ----------|:---------------:|:---------------------:|:-----------------------:|:----------------------:|\n",
    "| Beneficiary Summary | Beneficiary | 2,326,856 | 2,291,320 | 2,255,098 |\n",
    "| Inpatient Claims | claim | 547,800 | 504,941 | 280,081 |\n",
    "| Outpatient Claims | claim | 5,673,808 | 6,519,340 | 3,633,839 | \n",
    "| Carrier Claims | claim | 34,276,324 | 37,304,933 | 23,282,135 | \n",
    "| Prescription Drug Events (PDE) | event | 39,927,827 | 43,379,293 | 27,779,849 | \n",
    "\n",
    "\n",
    "\n",
    "### Accessing the files\n",
    "\n",
    "Due to file size limitations, each data type in the CMS Linkable 2008-2010 Medicare DE-SynPUF is released in 20 separate samples (essentially each is a .25% sample).  All claims for a particular beneficiary are in samples with the same number (i.e. all beneficiaries in sample 1 have all their claims in the sample 1 files).  This design allows DE-SynPUF users who do not need the entire synthetic population of the DE-SynPUF to read in only as many samples as they desire.  \n",
    "\n",
    "A unique cryptographic identifier, DESYNPUF_ID, identifying beneficiaries was provided in each CMS linkable 2008-2010 Medicare DE-SynPUF. DE-SynPUF users can link CMS Linkable 2008-2010 Medicare DE-SynPUFs using this Beneficiary Code, DESYNPUF_ID, as the linking key. However, DESYNPUF_ID was specifically created for DE-SynPUFs and carries no information about the patient or any patient records, and is provided solely for reference and data processing purposes."
   ]
  },
  {
   "cell_type": "markdown",
   "metadata": {},
   "source": [
    "#### Sample 1\n",
    "\n",
    "Each of the 20 samples contains eight files – three beneficiary files (one for each year), one inpatient file containing three years of data, one outpatient file containing three years of data, one PDE file containing three years of data, and two carrier files containing three years of data (Carrier 1 and Carrier 2).  Because of file size limitations, a Carrier sample was split into two CSV files. Both CSV files in a sample must be downloaded.  The SAS read-in program for the Carrier files creates one SAS data set from the two CSV files in the sample.  Beneficiary data was obtained for each year that the beneficiary enrolled in Medicare.  A single Beneficiary sample contains three CSV files, one for each year.  Because beneficiary files contain time varying variables like chronic conditions, reimbursement variables, and death, three files (one for each year) were provided to keep the same variable name as in the actual data.  All three CSV files in a sample must be downloaded. The SAS read-in program for the Beneficiary files creates one SAS data set for each year within a sample. If the beneficiary dies between 2008 and 2010, the beneficiary will not have any data in years after the beneficiary’s death.\n",
    "\n",
    "Although actual Medicare data are provided by year, De-SynPUFs provided three-year claims files to decrease the number of files users have to download and to take the advantage of multiple year data. Users can easily extract single year claims data.\n",
    "\n",
    "Click on the file below to begin download:"
   ]
  },
  {
   "cell_type": "code",
   "execution_count": 274,
   "metadata": {
    "collapsed": true
   },
   "outputs": [],
   "source": [
    "import numpy as np\n",
    "import pandas as pd\n",
    "import matplotlib.pyplot as plt\n",
    "from pandas import Series, DataFrame\n",
    "import pytz\n",
    "from pytz import common_timezones, all_timezones\n",
    "import matplotlib\n",
    "matplotlib.style.use('ggplot')\n",
    "%matplotlib inline\n",
    "from datetime import datetime\n"
   ]
  },
  {
   "cell_type": "code",
   "execution_count": 275,
   "metadata": {
    "collapsed": true
   },
   "outputs": [],
   "source": [
    "\n",
    "\n",
    "def process_url(urlstring):\n",
    "    \"\"\"A function to turn the CMS urls pointing to zipped files\n",
    "    into dataframes. Returns a dataframe\"\"\"\n",
    "    import requests, zipfile, StringIO\n",
    "    r = requests.get(urlstring)\n",
    "    z = zipfile.ZipFile(StringIO.StringIO(r.content))\n",
    "    # need to tease out the appropiate part of the sample string\n",
    "    df = pd.read_csv(z.open(urlstring.split('/')[-1].replace('zip','csv')))\n",
    "    \n",
    "    return df\n",
    "    \n",
    "    \n",
    "    "
   ]
  },
  {
   "cell_type": "markdown",
   "metadata": {},
   "source": [
    "## Collect all the zip urls for sample 1"
   ]
  },
  {
   "cell_type": "code",
   "execution_count": 276,
   "metadata": {
    "collapsed": true
   },
   "outputs": [],
   "source": [
    "sample1list = [\"https://www.cms.gov/Research-Statistics-Data-and-Systems/Downloadable-Public-Use-Files/\" + \\\n",
    "               \"SynPUFs/Downloads/DE1_0_2008_Beneficiary_Summary_File_Sample_1.zip\",\n",
    "              \"http://downloads.cms.gov/files/DE1_0_2008_to_2010_Carrier_Claims_Sample_1A.zip\",\n",
    "              \"http://downloads.cms.gov/files/DE1_0_2008_to_2010_Carrier_Claims_Sample_1B.zip\",\n",
    "              \"https://www.cms.gov/Research-Statistics-Data-and-Systems/Downloadable-Public-Use-Files/\" + \\\n",
    "               \"SynPUFs/Downloads/DE1_0_2008_to_2010_Inpatient_Claims_Sample_1.zip\",\n",
    "              \"https://www.cms.gov/Research-Statistics-Data-and-Systems/Downloadable-Public-Use-Files/\" + \\\n",
    "               \"SynPUFs/Downloads/DE1_0_2008_to_2010_Outpatient_Claims_Sample_1.zip\",\n",
    "              \"http://downloads.cms.gov/files/DE1_0_2008_to_2010_Prescription_Drug_Events_Sample_1.zip\",\n",
    "              \"https://www.cms.gov/Research-Statistics-Data-and-Systems/Downloadable-Public-Use-Files/\" + \\\n",
    "               \"SynPUFs/Downloads/DE1_0_2009_Beneficiary_Summary_File_Sample_1.zip\",\n",
    "              \"https://www.cms.gov/Research-Statistics-Data-and-Systems/Downloadable-Public-Use-Files/\" + \\\n",
    "               \"SynPUFs/Downloads/DE1_0_2010_Beneficiary_Summary_File_Sample_1.zip\"]"
   ]
  },
  {
   "cell_type": "code",
   "execution_count": 277,
   "metadata": {
    "collapsed": false
   },
   "outputs": [
    {
     "data": {
      "text/plain": [
       "'https://www.cms.gov/Research-Statistics-Data-and-Systems/Downloadable-Public-Use-Files/SynPUFs/Downloads/DE1_0_2008_Beneficiary_Summary_File_Sample_1.zip'"
      ]
     },
     "execution_count": 277,
     "metadata": {},
     "output_type": "execute_result"
    }
   ],
   "source": [
    "sample1list[0]"
   ]
  },
  {
   "cell_type": "code",
   "execution_count": 278,
   "metadata": {
    "collapsed": false
   },
   "outputs": [
    {
     "data": {
      "text/html": [
       "<div>\n",
       "<table border=\"1\" class=\"dataframe\">\n",
       "  <thead>\n",
       "    <tr style=\"text-align: right;\">\n",
       "      <th></th>\n",
       "      <th>State Abbreviation</th>\n",
       "      <th>State FIPS Code</th>\n",
       "      <th>County FIPS Code</th>\n",
       "      <th>FIPS Entity Code</th>\n",
       "      <th>ANSI Code</th>\n",
       "      <th>GU Name</th>\n",
       "      <th>Entity Description</th>\n",
       "      <th>FIPScombo</th>\n",
       "      <th>address</th>\n",
       "      <th>county</th>\n",
       "      <th>elevation</th>\n",
       "      <th>lat</th>\n",
       "      <th>lng</th>\n",
       "    </tr>\n",
       "  </thead>\n",
       "  <tbody>\n",
       "    <tr>\n",
       "      <th>0</th>\n",
       "      <td>AL</td>\n",
       "      <td>01</td>\n",
       "      <td>001</td>\n",
       "      <td>00000</td>\n",
       "      <td>00161526</td>\n",
       "      <td>Autauga</td>\n",
       "      <td>County</td>\n",
       "      <td>01001</td>\n",
       "      <td>Autauga+county+AL</td>\n",
       "      <td>Autauga+county+AL</td>\n",
       "      <td>353.019130</td>\n",
       "      <td>32.579182</td>\n",
       "      <td>-86.499655</td>\n",
       "    </tr>\n",
       "    <tr>\n",
       "      <th>1</th>\n",
       "      <td>AL</td>\n",
       "      <td>01</td>\n",
       "      <td>003</td>\n",
       "      <td>00000</td>\n",
       "      <td>00161527</td>\n",
       "      <td>Baldwin</td>\n",
       "      <td>County</td>\n",
       "      <td>01003</td>\n",
       "      <td>Baldwin+county+AL</td>\n",
       "      <td>Baldwin+county+AL</td>\n",
       "      <td>144.481789</td>\n",
       "      <td>30.601074</td>\n",
       "      <td>-87.776333</td>\n",
       "    </tr>\n",
       "    <tr>\n",
       "      <th>2</th>\n",
       "      <td>AL</td>\n",
       "      <td>01</td>\n",
       "      <td>005</td>\n",
       "      <td>00000</td>\n",
       "      <td>00161528</td>\n",
       "      <td>Barbour</td>\n",
       "      <td>County</td>\n",
       "      <td>01005</td>\n",
       "      <td>Barbour+county+AL</td>\n",
       "      <td>Barbour+county+AL</td>\n",
       "      <td>490.467758</td>\n",
       "      <td>31.817290</td>\n",
       "      <td>-85.354965</td>\n",
       "    </tr>\n",
       "    <tr>\n",
       "      <th>3</th>\n",
       "      <td>AL</td>\n",
       "      <td>01</td>\n",
       "      <td>007</td>\n",
       "      <td>00000</td>\n",
       "      <td>00161529</td>\n",
       "      <td>Bibb</td>\n",
       "      <td>County</td>\n",
       "      <td>01007</td>\n",
       "      <td>Bibb+county+AL</td>\n",
       "      <td>Bibb+county+AL</td>\n",
       "      <td>244.550663</td>\n",
       "      <td>32.936668</td>\n",
       "      <td>-87.088890</td>\n",
       "    </tr>\n",
       "    <tr>\n",
       "      <th>4</th>\n",
       "      <td>AL</td>\n",
       "      <td>01</td>\n",
       "      <td>009</td>\n",
       "      <td>00000</td>\n",
       "      <td>00161530</td>\n",
       "      <td>Blount</td>\n",
       "      <td>County</td>\n",
       "      <td>01009</td>\n",
       "      <td>Blount+county+AL</td>\n",
       "      <td>Blount+county+AL</td>\n",
       "      <td>1007.442256</td>\n",
       "      <td>34.014515</td>\n",
       "      <td>-86.499655</td>\n",
       "    </tr>\n",
       "  </tbody>\n",
       "</table>\n",
       "</div>"
      ],
      "text/plain": [
       "  State Abbreviation State FIPS Code County FIPS Code FIPS Entity Code  \\\n",
       "0                 AL              01              001            00000   \n",
       "1                 AL              01              003            00000   \n",
       "2                 AL              01              005            00000   \n",
       "3                 AL              01              007            00000   \n",
       "4                 AL              01              009            00000   \n",
       "\n",
       "  ANSI Code  GU Name Entity Description FIPScombo            address  \\\n",
       "0  00161526  Autauga             County     01001  Autauga+county+AL   \n",
       "1  00161527  Baldwin             County     01003  Baldwin+county+AL   \n",
       "2  00161528  Barbour             County     01005  Barbour+county+AL   \n",
       "3  00161529     Bibb             County     01007     Bibb+county+AL   \n",
       "4  00161530   Blount             County     01009   Blount+county+AL   \n",
       "\n",
       "              county    elevation        lat        lng  \n",
       "0  Autauga+county+AL   353.019130  32.579182 -86.499655  \n",
       "1  Baldwin+county+AL   144.481789  30.601074 -87.776333  \n",
       "2  Barbour+county+AL   490.467758  31.817290 -85.354965  \n",
       "3     Bibb+county+AL   244.550663  32.936668 -87.088890  \n",
       "4   Blount+county+AL  1007.442256  34.014515 -86.499655  "
      ]
     },
     "execution_count": 278,
     "metadata": {},
     "output_type": "execute_result"
    }
   ],
   "source": [
    "dfplace = pd.read_pickle('dfplace.pickle')\n",
    "dfplace.head()"
   ]
  },
  {
   "cell_type": "code",
   "execution_count": 279,
   "metadata": {
    "collapsed": true
   },
   "outputs": [],
   "source": [
    "dfssa = pd.read_table('http://www.nber.org/ssa-fips-state-county-crosswalk/CBSAtoCountycrosswalk_FY13.txt',\n",
    "                     dtype={'SSA State county code': object,\n",
    "                           'FIPS State county code': object})"
   ]
  },
  {
   "cell_type": "code",
   "execution_count": 280,
   "metadata": {
    "collapsed": true
   },
   "outputs": [],
   "source": [
    "dfelev = pd.merge(dfssa, dfplace, left_on='FIPS State county code',\n",
    "                 right_on='FIPScombo')"
   ]
  },
  {
   "cell_type": "code",
   "execution_count": 291,
   "metadata": {
    "collapsed": false
   },
   "outputs": [
    {
     "data": {
      "text/html": [
       "<div>\n",
       "<table border=\"1\" class=\"dataframe\">\n",
       "  <thead>\n",
       "    <tr style=\"text-align: right;\">\n",
       "      <th></th>\n",
       "      <th>County</th>\n",
       "      <th>State</th>\n",
       "      <th>SSA State county code</th>\n",
       "      <th>FIPS State county code</th>\n",
       "      <th>CBSA (blanks are rural)</th>\n",
       "      <th>CBSA name (Blanks are rural)</th>\n",
       "      <th>State Abbreviation</th>\n",
       "      <th>State FIPS Code</th>\n",
       "      <th>County FIPS Code</th>\n",
       "      <th>FIPS Entity Code</th>\n",
       "      <th>ANSI Code</th>\n",
       "      <th>GU Name</th>\n",
       "      <th>Entity Description</th>\n",
       "      <th>FIPScombo</th>\n",
       "      <th>address</th>\n",
       "      <th>county</th>\n",
       "      <th>elevation</th>\n",
       "      <th>lat</th>\n",
       "      <th>lng</th>\n",
       "    </tr>\n",
       "  </thead>\n",
       "  <tbody>\n",
       "    <tr>\n",
       "      <th>0</th>\n",
       "      <td>AUTAUGA</td>\n",
       "      <td>AL</td>\n",
       "      <td>01000</td>\n",
       "      <td>01001</td>\n",
       "      <td>33860</td>\n",
       "      <td>Montgomery, AL</td>\n",
       "      <td>AL</td>\n",
       "      <td>01</td>\n",
       "      <td>001</td>\n",
       "      <td>00000</td>\n",
       "      <td>00161526</td>\n",
       "      <td>Autauga</td>\n",
       "      <td>County</td>\n",
       "      <td>01001</td>\n",
       "      <td>Autauga+county+AL</td>\n",
       "      <td>Autauga+county+AL</td>\n",
       "      <td>353.019130</td>\n",
       "      <td>32.579182</td>\n",
       "      <td>-86.499655</td>\n",
       "    </tr>\n",
       "    <tr>\n",
       "      <th>1</th>\n",
       "      <td>BALDWIN</td>\n",
       "      <td>AL</td>\n",
       "      <td>01010</td>\n",
       "      <td>01003</td>\n",
       "      <td>NaN</td>\n",
       "      <td>NaN</td>\n",
       "      <td>AL</td>\n",
       "      <td>01</td>\n",
       "      <td>003</td>\n",
       "      <td>00000</td>\n",
       "      <td>00161527</td>\n",
       "      <td>Baldwin</td>\n",
       "      <td>County</td>\n",
       "      <td>01003</td>\n",
       "      <td>Baldwin+county+AL</td>\n",
       "      <td>Baldwin+county+AL</td>\n",
       "      <td>144.481789</td>\n",
       "      <td>30.601074</td>\n",
       "      <td>-87.776333</td>\n",
       "    </tr>\n",
       "    <tr>\n",
       "      <th>2</th>\n",
       "      <td>BARBOUR</td>\n",
       "      <td>AL</td>\n",
       "      <td>01020</td>\n",
       "      <td>01005</td>\n",
       "      <td>NaN</td>\n",
       "      <td>NaN</td>\n",
       "      <td>AL</td>\n",
       "      <td>01</td>\n",
       "      <td>005</td>\n",
       "      <td>00000</td>\n",
       "      <td>00161528</td>\n",
       "      <td>Barbour</td>\n",
       "      <td>County</td>\n",
       "      <td>01005</td>\n",
       "      <td>Barbour+county+AL</td>\n",
       "      <td>Barbour+county+AL</td>\n",
       "      <td>490.467758</td>\n",
       "      <td>31.817290</td>\n",
       "      <td>-85.354965</td>\n",
       "    </tr>\n",
       "    <tr>\n",
       "      <th>3</th>\n",
       "      <td>BIBB</td>\n",
       "      <td>AL</td>\n",
       "      <td>01030</td>\n",
       "      <td>01007</td>\n",
       "      <td>13820</td>\n",
       "      <td>Birmingham-Hoover, AL</td>\n",
       "      <td>AL</td>\n",
       "      <td>01</td>\n",
       "      <td>007</td>\n",
       "      <td>00000</td>\n",
       "      <td>00161529</td>\n",
       "      <td>Bibb</td>\n",
       "      <td>County</td>\n",
       "      <td>01007</td>\n",
       "      <td>Bibb+county+AL</td>\n",
       "      <td>Bibb+county+AL</td>\n",
       "      <td>244.550663</td>\n",
       "      <td>32.936668</td>\n",
       "      <td>-87.088890</td>\n",
       "    </tr>\n",
       "    <tr>\n",
       "      <th>4</th>\n",
       "      <td>BLOUNT</td>\n",
       "      <td>AL</td>\n",
       "      <td>01040</td>\n",
       "      <td>01009</td>\n",
       "      <td>13820</td>\n",
       "      <td>Birmingham-Hoover, AL</td>\n",
       "      <td>AL</td>\n",
       "      <td>01</td>\n",
       "      <td>009</td>\n",
       "      <td>00000</td>\n",
       "      <td>00161530</td>\n",
       "      <td>Blount</td>\n",
       "      <td>County</td>\n",
       "      <td>01009</td>\n",
       "      <td>Blount+county+AL</td>\n",
       "      <td>Blount+county+AL</td>\n",
       "      <td>1007.442256</td>\n",
       "      <td>34.014515</td>\n",
       "      <td>-86.499655</td>\n",
       "    </tr>\n",
       "  </tbody>\n",
       "</table>\n",
       "</div>"
      ],
      "text/plain": [
       "    County State SSA State county code FIPS State county code  \\\n",
       "0  AUTAUGA    AL                 01000                  01001   \n",
       "1  BALDWIN    AL                 01010                  01003   \n",
       "2  BARBOUR    AL                 01020                  01005   \n",
       "3     BIBB    AL                 01030                  01007   \n",
       "4   BLOUNT    AL                 01040                  01009   \n",
       "\n",
       "   CBSA (blanks are rural) CBSA name (Blanks are rural) State Abbreviation  \\\n",
       "0                    33860               Montgomery, AL                 AL   \n",
       "1                      NaN                          NaN                 AL   \n",
       "2                      NaN                          NaN                 AL   \n",
       "3                    13820        Birmingham-Hoover, AL                 AL   \n",
       "4                    13820        Birmingham-Hoover, AL                 AL   \n",
       "\n",
       "  State FIPS Code County FIPS Code FIPS Entity Code ANSI Code  GU Name  \\\n",
       "0              01              001            00000  00161526  Autauga   \n",
       "1              01              003            00000  00161527  Baldwin   \n",
       "2              01              005            00000  00161528  Barbour   \n",
       "3              01              007            00000  00161529     Bibb   \n",
       "4              01              009            00000  00161530   Blount   \n",
       "\n",
       "  Entity Description FIPScombo            address             county  \\\n",
       "0             County     01001  Autauga+county+AL  Autauga+county+AL   \n",
       "1             County     01003  Baldwin+county+AL  Baldwin+county+AL   \n",
       "2             County     01005  Barbour+county+AL  Barbour+county+AL   \n",
       "3             County     01007     Bibb+county+AL     Bibb+county+AL   \n",
       "4             County     01009   Blount+county+AL   Blount+county+AL   \n",
       "\n",
       "     elevation        lat        lng  \n",
       "0   353.019130  32.579182 -86.499655  \n",
       "1   144.481789  30.601074 -87.776333  \n",
       "2   490.467758  31.817290 -85.354965  \n",
       "3   244.550663  32.936668 -87.088890  \n",
       "4  1007.442256  34.014515 -86.499655  "
      ]
     },
     "execution_count": 291,
     "metadata": {},
     "output_type": "execute_result"
    }
   ],
   "source": [
    "dfelev.head()"
   ]
  },
  {
   "cell_type": "markdown",
   "metadata": {},
   "source": [
    "## First load and transform the beneficiary files\n",
    "\n",
    "The codebook is given here\n",
    "https://www.cms.gov/Research-Statistics-Data-and-Systems/Downloadable-Public-Use-Files/SynPUFs/Downloads/SynPUF_Codebook.pdf\n",
    "\n"
   ]
  },
  {
   "cell_type": "markdown",
   "metadata": {},
   "source": [
    "```DESYNPUF_ID``` is a cryptographic number provided on each file to link claims to a beneficiary. This beneficiary ID carries no information about the patient or any patient records, and is provided for reference and data processing purposes."
   ]
  },
  {
   "cell_type": "markdown",
   "metadata": {},
   "source": [
    "### Need to transform ```BENE_BIRTH_DT``` into a date"
   ]
  },
  {
   "cell_type": "markdown",
   "metadata": {},
   "source": [
    "```BENE_SEX_IDENT_CD``` is 1 for males and 2 for females; get rid of the numbers and put in the strings"
   ]
  },
  {
   "cell_type": "markdown",
   "metadata": {},
   "source": [
    "#### Make a function that cleans the bene dataframes:"
   ]
  },
  {
   "cell_type": "code",
   "execution_count": 306,
   "metadata": {
    "collapsed": true
   },
   "outputs": [],
   "source": [
    "def make_clean_bene(dfraw):\n",
    "    \"\"\"takes the raw dataframe dfraw and transform it\n",
    "    using the codebook.\"\"\"\n",
    "    import datetime as dt\n",
    "    dfraw['BENE_BIRTH_DT'] = dfraw['BENE_BIRTH_DT'].apply(lambda x: pd.to_datetime(str(x),\n",
    "                    format='%Y%m%d'))\n",
    "    dfraw['BENE_DEATH_DT'] = dfraw['BENE_DEATH_DT'].apply(lambda x: pd.to_datetime(str(x),\n",
    "                    format='%Y%m%d'))\n",
    "    dfraw.replace({'BENE_SEX_IDENT_CD':{1:'Male',\n",
    "                                         2:'Female'}},\n",
    "                                        inplace=True)\n",
    "    dfraw.replace({'BENE_RACE_CD':{1: 'White',\n",
    "                                   2:'Black',\n",
    "                                   3: 'Others',\n",
    "                                   5: 'Hispanic'}},\n",
    "                                    inplace=True)\n",
    "    dfraw.replace({'BENE_ESRD_IND':{'0':'The beneficiary does not have end stage renal disease',\n",
    "                                'Y':'The beneficiary has end stage renal disease'}},\n",
    "                                        inplace=True)\n",
    "    dfraw['state'] = dfraw['SP_STATE_CODE'].copy()\n",
    "    dfraw['state'] = dfraw['state'].apply(str)\n",
    "    dfraw['state'] = dfraw['state'].apply(lambda x: x.rjust(2,'0'))\n",
    "    dfraw.replace({'SP_STATE_CODE':{1: 'AL',\n",
    "                                    2: 'AK',\n",
    "                                    3: 'AZ',\n",
    "                                    4: 'AR',\n",
    "                                    5: 'CA',\n",
    "                                    6: 'CO',\n",
    "                                     7: 'CT',\n",
    "                                    8: 'DE',\n",
    "                                    9: 'DC',\n",
    "                                    10: 'FL',\n",
    "                                    11: 'GA',\n",
    "                                    12: 'HI',\n",
    "                                    13: 'ID',\n",
    "                                    14: 'IL',\n",
    "                                    15: 'IN',\n",
    "                                    16: 'IA',\n",
    "                                    17: 'KS',\n",
    "                                    18: 'KY',\n",
    "                                    19: 'LA',\n",
    "                                    20: 'ME',\n",
    "                                    21: 'MD',\n",
    "                                    22: 'MA',\n",
    "                                    23: 'MI',\n",
    "                                    24: 'MN',\n",
    "                                    25: 'MS',\n",
    "                                    26: 'MO',\n",
    "                                    27: 'MT',\n",
    "                                    28: 'NE',\n",
    "                                    29: 'NV',\n",
    "                                    30: 'NH',\n",
    "                                    31: 'NJ',\n",
    "                                    32: 'NM',\n",
    "                                    33: 'NY',\n",
    "                                    34: 'NC',\n",
    "                                    35: 'ND',\n",
    "                                    36: 'OH',\n",
    "                                    37: 'OK',\n",
    "                                    38: 'OR',\n",
    "                                    39: 'PA',\n",
    "                                    41: 'RI',\n",
    "                                    42: 'SC',\n",
    "                                    43: 'SD',\n",
    "                                    44: 'TN',\n",
    "                                    45: 'TX',\n",
    "                                    46: 'UT',\n",
    "                                    47: 'VT',\n",
    "                                    49: 'VA',\n",
    "                                    50: 'WA',\n",
    "                                    51: 'WV',\n",
    "                                    52: 'WI',\n",
    "                                    53: 'WY',\n",
    "                                    54: 'Others'}},\n",
    "                 inplace=True)\n",
    "    dfraw['BENE_COUNTY_CD'] = dfraw['BENE_COUNTY_CD'].apply(str)\n",
    "    dfraw['BENE_COUNTY_CD'] = dfraw['BENE_COUNTY_CD'].apply(lambda x: x.rjust(3,'0'))\n",
    "    dfraw['crosswalk'] = dfraw['state'] + dfraw['BENE_COUNTY_CD']\n",
    "    dfraw = pd.merge(dfraw, dfelev, left_on='crosswalk',\n",
    "                 right_on='SSA State county code')"
   ]
  },
  {
   "cell_type": "code",
   "execution_count": 307,
   "metadata": {
    "collapsed": true
   },
   "outputs": [],
   "source": [
    "dfbene2008 = process_url(sample1list[0])"
   ]
  },
  {
   "cell_type": "code",
   "execution_count": 308,
   "metadata": {
    "collapsed": false
   },
   "outputs": [
    {
     "data": {
      "text/plain": [
       "Index([u'DESYNPUF_ID', u'BENE_BIRTH_DT', u'BENE_DEATH_DT',\n",
       "       u'BENE_SEX_IDENT_CD', u'BENE_RACE_CD', u'BENE_ESRD_IND',\n",
       "       u'SP_STATE_CODE', u'BENE_COUNTY_CD', u'BENE_HI_CVRAGE_TOT_MONS',\n",
       "       u'BENE_SMI_CVRAGE_TOT_MONS', u'BENE_HMO_CVRAGE_TOT_MONS',\n",
       "       u'PLAN_CVRG_MOS_NUM', u'SP_ALZHDMTA', u'SP_CHF', u'SP_CHRNKIDN',\n",
       "       u'SP_CNCR', u'SP_COPD', u'SP_DEPRESSN', u'SP_DIABETES', u'SP_ISCHMCHT',\n",
       "       u'SP_OSTEOPRS', u'SP_RA_OA', u'SP_STRKETIA', u'MEDREIMB_IP',\n",
       "       u'BENRES_IP', u'PPPYMT_IP', u'MEDREIMB_OP', u'BENRES_OP', u'PPPYMT_OP',\n",
       "       u'MEDREIMB_CAR', u'BENRES_CAR', u'PPPYMT_CAR'],\n",
       "      dtype='object')"
      ]
     },
     "execution_count": 308,
     "metadata": {},
     "output_type": "execute_result"
    }
   ],
   "source": [
    "dfbene2008.columns"
   ]
  },
  {
   "cell_type": "code",
   "execution_count": 309,
   "metadata": {
    "collapsed": false
   },
   "outputs": [],
   "source": [
    "make_clean_bene(dfbene2008)"
   ]
  },
  {
   "cell_type": "code",
   "execution_count": 310,
   "metadata": {
    "collapsed": false
   },
   "outputs": [
    {
     "data": {
      "text/plain": [
       "<matplotlib.axes._subplots.AxesSubplot at 0x83514748>"
      ]
     },
     "execution_count": 310,
     "metadata": {},
     "output_type": "execute_result"
    },
    {
     "data": {
      "image/png": "[encoded data removed]",
      "text/plain": [
       "<matplotlib.figure.Figure at 0x6ecddb70>"
      ]
     },
     "metadata": {},
     "output_type": "display_data"
    }
   ],
   "source": [
    "dfdingle.plot.scatter('lng','lat')"
   ]
  },
  {
   "cell_type": "code",
   "execution_count": 285,
   "metadata": {
    "collapsed": false
   },
   "outputs": [
    {
     "data": {
      "text/plain": [
       "1     164\n",
       "2     142\n",
       "3     156\n",
       "4     141\n",
       "5     158\n",
       "6     132\n",
       "7     149\n",
       "8     140\n",
       "9     166\n",
       "10    155\n",
       "11    158\n",
       "12    153\n",
       "Name: BENE_DEATH_DT, dtype: int64"
      ]
     },
     "execution_count": 285,
     "metadata": {},
     "output_type": "execute_result"
    }
   ],
   "source": [
    "dfbene2008['BENE_DEATH_DT'].dt.month.value_counts().sort_index()"
   ]
  },
  {
   "cell_type": "code",
   "execution_count": 286,
   "metadata": {
    "collapsed": false
   },
   "outputs": [
    {
     "data": {
      "text/plain": [
       "<matplotlib.axes._subplots.AxesSubplot at 0x2d9c4470>"
      ]
     },
     "execution_count": 286,
     "metadata": {},
     "output_type": "execute_result"
    },
    {
     "data": {
      "image/png": "[encoded data removed]",
      "text/plain": [
       "<matplotlib.figure.Figure at 0x6b394c18>"
      ]
     },
     "metadata": {},
     "output_type": "display_data"
    }
   ],
   "source": [
    "dfbene2008['BENE_SEX_IDENT_CD'].value_counts().plot(kind='bar')"
   ]
  },
  {
   "cell_type": "code",
   "execution_count": 287,
   "metadata": {
    "collapsed": false
   },
   "outputs": [
    {
     "data": {
      "text/plain": [
       "<matplotlib.axes._subplots.AxesSubplot at 0xa02d17b8>"
      ]
     },
     "execution_count": 287,
     "metadata": {},
     "output_type": "execute_result"
    },
    {
     "data": {
      "image/png": "[encoded data removed]",
      "text/plain": [
       "<matplotlib.figure.Figure at 0xbf8db4a8>"
      ]
     },
     "metadata": {},
     "output_type": "display_data"
    }
   ],
   "source": [
    "dfbene2008['BENE_BIRTH_DT'].dt.year.value_counts().sort_index().plot(kind='bar',figsize=(30,10))"
   ]
  },
  {
   "cell_type": "code",
   "execution_count": 288,
   "metadata": {
    "collapsed": false
   },
   "outputs": [
    {
     "data": {
      "text/plain": [
       "<matplotlib.axes._subplots.AxesSubplot at 0x4cfcc9e8>"
      ]
     },
     "execution_count": 288,
     "metadata": {},
     "output_type": "execute_result"
    },
    {
     "data": {
      "image/png": "[encoded data removed]",
      "text/plain": [
       "<matplotlib.figure.Figure at 0xcad7ba8>"
      ]
     },
     "metadata": {},
     "output_type": "display_data"
    }
   ],
   "source": [
    "dfbene2008['BENE_RACE_CD'].value_counts().plot(kind='bar')"
   ]
  },
  {
   "cell_type": "code",
   "execution_count": 289,
   "metadata": {
    "collapsed": false
   },
   "outputs": [
    {
     "data": {
      "text/plain": [
       "The beneficiary does not have end stage renal disease    108091\n",
       "The beneficiary has end stage renal disease                8261\n",
       "Name: BENE_ESRD_IND, dtype: int64"
      ]
     },
     "execution_count": 289,
     "metadata": {},
     "output_type": "execute_result"
    }
   ],
   "source": [
    "dfbene2008['BENE_ESRD_IND'].value_counts()"
   ]
  },
  {
   "cell_type": "markdown",
   "metadata": {},
   "source": [
    "```BENE_COUNTY_CD```\n",
    "\n",
    "Label: THIS CODE SPECIFIES THE SSA CODE FOR THE COUNTY OF RESIDENCE OF\n",
    "THE BENEFICIARY. EACH STATE HAS A SERIES OF CODES BEGINNING WITH '000'\n",
    "FOR EACH COUNTY WITHIN THAT STATE. CERTAIN CITIES WITHIN THAT STATE\n",
    "HAVE THEIR OWN CODE. COUNTY CODES MUST BE COMBINED WITH STATE\n",
    "CODES IN ORDER TO LOCATE THE SPECIFIC COUNTY. THE CODING SYSTEM IS\n",
    "THE SSA SYSTEM, NOT THE FEDERAL INFORMATION PROCESSING STANDARD\n",
    "(FIPS)\n",
    "\n",
    "\n",
    "Use this file http://www.nber.org/ssa-fips-state-county-crosswalk/CBSAtoCountycrosswalk_FY13.txt"
   ]
  },
  {
   "cell_type": "markdown",
   "metadata": {},
   "source": [
    "Need to pad ```BENE_COUNTY_CD``` with zeros on the left so that the whole thing is 3 digits long.\n",
    "First turn it into a string."
   ]
  },
  {
   "cell_type": "code",
   "execution_count": null,
   "metadata": {
    "collapsed": true
   },
   "outputs": [],
   "source": []
  }
 ],
 "metadata": {
  "kernelspec": {
   "display_name": "Python 2",
   "language": "python",
   "name": "python2"
  },
  "language_info": {
   "codemirror_mode": {
    "name": "ipython",
    "version": 2
   },
   "file_extension": ".py",
   "mimetype": "text/x-python",
   "name": "python",
   "nbconvert_exporter": "python",
   "pygments_lexer": "ipython2",
   "version": "2.7.11"
  }
 },
 "nbformat": 4,
 "nbformat_minor": 0
}
